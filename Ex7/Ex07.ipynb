{
 "cells": [
  {
   "cell_type": "markdown",
   "metadata": {},
   "source": [
    "# EN 2550 Ex07\n",
    "# 190432J\n",
    "# Pathirana R.P.U.A."
   ]
  },
  {
   "cell_type": "code",
   "execution_count": null,
   "metadata": {},
   "outputs": [],
   "source": [
    "import numpy as np\n",
    "from plyfile import import PlyData,   #standard  one is open 3D\n",
    "import matplotlib.pyplot as plt\n",
    "\n",
    "pcd = PlyData.read(r'airplane.ply')\n",
    "assert pcd is not None\n",
    "\n",
    "points = np.concatenate((pcd['virtex']['x'].reshape(1,-1),pcd['virtex']['y'].reshape(1,-1),pcd['virtex']['z'].reshape(1,-1)),axis = 0)\n",
    "\n",
    "#points = points - "
   ]
  },
  {
   "cell_type": "code",
   "execution_count": null,
   "metadata": {},
   "outputs": [],
   "source": [
    "ones = np.ones((1,points.shape[1] ))\n",
    "points = np.concatenate((points,ones), axis = 0 )\n",
    "\n",
    "R = np.array([[1,0,0],[0,1,0],[0,0,1]])\n",
    "K = np.array([[1,0,0],[0,1,0],[0,0,1]])\n",
    "t = np.array([[0],[0],[-4000]])\n",
    "\n",
    "P1 = K @ np.concatenate()"
   ]
  }
 ],
 "metadata": {
  "interpreter": {
   "hash": "71a9e55ea9a4eb0ec0516cb2ecfe4cae1c555e7d5ef5085da43b83b5c34d74bd"
  },
  "kernelspec": {
   "display_name": "Python 3.10.2 64-bit (system)",
   "language": "python",
   "name": "python3"
  },
  "language_info": {
   "name": "python",
   "version": "3.10.2"
  },
  "orig_nbformat": 4
 },
 "nbformat": 4,
 "nbformat_minor": 2
}
